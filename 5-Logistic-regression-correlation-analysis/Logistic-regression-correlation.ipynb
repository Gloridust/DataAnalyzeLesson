{
 "cells": [
  {
   "cell_type": "code",
   "execution_count": 3,
   "id": "42b32aeb",
   "metadata": {},
   "outputs": [
    {
     "ename": "ImportError",
     "evalue": "cannot import name 'root_mean_squared_error' from 'sklearn.metrics' (D:\\Anaconda\\Lib\\site-packages\\sklearn\\metrics\\__init__.py)",
     "output_type": "error",
     "traceback": [
      "\u001b[1;31m---------------------------------------------------------------------------\u001b[0m",
      "\u001b[1;31mImportError\u001b[0m                               Traceback (most recent call last)",
      "Cell \u001b[1;32mIn[3], line 4\u001b[0m\n\u001b[0;32m      2\u001b[0m \u001b[38;5;28;01mfrom\u001b[39;00m \u001b[38;5;21;01msklearn\u001b[39;00m\u001b[38;5;21;01m.\u001b[39;00m\u001b[38;5;21;01mlinear_model\u001b[39;00m \u001b[38;5;28;01mimport\u001b[39;00m LinearRegression\n\u001b[0;32m      3\u001b[0m \u001b[38;5;28;01mfrom\u001b[39;00m \u001b[38;5;21;01msklearn\u001b[39;00m\u001b[38;5;21;01m.\u001b[39;00m\u001b[38;5;21;01mmodel_selection\u001b[39;00m \u001b[38;5;28;01mimport\u001b[39;00m train_test_split\n\u001b[1;32m----> 4\u001b[0m \u001b[38;5;28;01mfrom\u001b[39;00m \u001b[38;5;21;01msklearn\u001b[39;00m\u001b[38;5;21;01m.\u001b[39;00m\u001b[38;5;21;01mmetrics\u001b[39;00m \u001b[38;5;28;01mimport\u001b[39;00m root_mean_squared_error, r2_score\n",
      "\u001b[1;31mImportError\u001b[0m: cannot import name 'root_mean_squared_error' from 'sklearn.metrics' (D:\\Anaconda\\Lib\\site-packages\\sklearn\\metrics\\__init__.py)"
     ]
    }
   ],
   "source": [
    "import pandas as pd\n",
    "from sklearn.linear_model import LinearRegression\n",
    "from sklearn.model_selection import train_test_split\n",
    "from sklearn.metrics import root_mean_squared_error, r2_score"
   ]
  },
  {
   "cell_type": "code",
   "execution_count": null,
   "id": "6d8df8e5",
   "metadata": {},
   "outputs": [],
   "source": [
    "data_path = 'data3.xlsx'\n",
    "data = pd.read_excel(data_path)"
   ]
  },
  {
   "cell_type": "code",
   "execution_count": null,
   "id": "1c6cae1c",
   "metadata": {},
   "outputs": [],
   "source": [
    "# 定义预测器和目标变量\n",
    "X = data[['贷款年利率']]\n",
    "y_A = data['信誉评级A客户流失率']\n",
    "y_B = data['信誉评级B客户流失率']\n",
    "y_C = data['信誉评级C客户流失率']"
   ]
  },
  {
   "cell_type": "code",
   "execution_count": null,
   "id": "4a703c59",
   "metadata": {},
   "outputs": [],
   "source": [
    "models = {}\n",
    "predictions = {}\n",
    "scores = {}"
   ]
  },
  {
   "cell_type": "code",
   "execution_count": null,
   "id": "429aa9a4",
   "metadata": {},
   "outputs": [],
   "source": [
    "for target, y in zip(['A', 'B', 'C'], [y_A, y_B, y_C]):\n",
    "    X_train, X_test, y_train, y_test = train_test_split(X, y, test_size=0.2, random_state=42)\n",
    "    model = LinearRegression()\n",
    "    model.fit(X_train, y_train)\n",
    "    y_pred = model.predict(X_test)\n",
    "    models[target] = model\n",
    "    predictions[target] = y_pred\n",
    "    scores[target] = {\n",
    "        '均方根误差 (RMSE)': root_mean_squared_error(y_test, y_pred),\n",
    "        '决定系数 (R²)': r2_score(y_test, y_pred)\n",
    "    }"
   ]
  },
  {
   "cell_type": "code",
   "execution_count": null,
   "id": "d006d3aa",
   "metadata": {},
   "outputs": [],
   "source": [
    "for target, score in scores.items():\n",
    "    print(f\"信誉评级 {target} 客户的模型:\")\n",
    "    print(f\"  均方根误差 (RMSE): {score['均方根误差 (RMSE)']}\")\n",
    "    print(f\"  决定系数 (R²): {score['决定系数 (R²)']}\\n\")"
   ]
  },
  {
   "cell_type": "code",
   "execution_count": 2,
   "id": "f999e169",
   "metadata": {},
   "outputs": [
    {
     "ename": "NameError",
     "evalue": "name 'y_A' is not defined",
     "output_type": "error",
     "traceback": [
      "\u001b[1;31m---------------------------------------------------------------------------\u001b[0m",
      "\u001b[1;31mNameError\u001b[0m                                 Traceback (most recent call last)",
      "Cell \u001b[1;32mIn[2], line 12\u001b[0m\n\u001b[0;32m      9\u001b[0m credit_ratings \u001b[38;5;241m=\u001b[39m [\u001b[38;5;124m'\u001b[39m\u001b[38;5;124mA\u001b[39m\u001b[38;5;124m'\u001b[39m, \u001b[38;5;124m'\u001b[39m\u001b[38;5;124mB\u001b[39m\u001b[38;5;124m'\u001b[39m, \u001b[38;5;124m'\u001b[39m\u001b[38;5;124mC\u001b[39m\u001b[38;5;124m'\u001b[39m]\n\u001b[0;32m     10\u001b[0m data_columns \u001b[38;5;241m=\u001b[39m [\u001b[38;5;124m'\u001b[39m\u001b[38;5;124m信誉评级A客户流失率\u001b[39m\u001b[38;5;124m'\u001b[39m, \u001b[38;5;124m'\u001b[39m\u001b[38;5;124m信誉评级B客户流失率\u001b[39m\u001b[38;5;124m'\u001b[39m, \u001b[38;5;124m'\u001b[39m\u001b[38;5;124m信誉评级C客户流失率\u001b[39m\u001b[38;5;124m'\u001b[39m]\n\u001b[1;32m---> 12\u001b[0m \u001b[38;5;28;01mfor\u001b[39;00m ax, target, y, column \u001b[38;5;129;01min\u001b[39;00m \u001b[38;5;28mzip\u001b[39m(axes, credit_ratings, [y_A, y_B, y_C], data_columns):\n\u001b[0;32m     13\u001b[0m     sns\u001b[38;5;241m.\u001b[39mscatterplot(x\u001b[38;5;241m=\u001b[39mX[\u001b[38;5;124m'\u001b[39m\u001b[38;5;124m贷款年利率\u001b[39m\u001b[38;5;124m'\u001b[39m], y\u001b[38;5;241m=\u001b[39my, ax\u001b[38;5;241m=\u001b[39max, color\u001b[38;5;241m=\u001b[39m\u001b[38;5;124m'\u001b[39m\u001b[38;5;124mblue\u001b[39m\u001b[38;5;124m'\u001b[39m, label\u001b[38;5;241m=\u001b[39m\u001b[38;5;124m'\u001b[39m\u001b[38;5;124m实际数据\u001b[39m\u001b[38;5;124m'\u001b[39m)\n\u001b[0;32m     14\u001b[0m     line_X \u001b[38;5;241m=\u001b[39m pd\u001b[38;5;241m.\u001b[39mDataFrame({\u001b[38;5;124m'\u001b[39m\u001b[38;5;124m贷款年利率\u001b[39m\u001b[38;5;124m'\u001b[39m: [x \u001b[38;5;241m/\u001b[39m \u001b[38;5;241m1000.0\u001b[39m \u001b[38;5;28;01mfor\u001b[39;00m x \u001b[38;5;129;01min\u001b[39;00m \u001b[38;5;28mrange\u001b[39m(\u001b[38;5;28mint\u001b[39m(\u001b[38;5;28mmin\u001b[39m(X[\u001b[38;5;124m'\u001b[39m\u001b[38;5;124m贷款年利率\u001b[39m\u001b[38;5;124m'\u001b[39m]\u001b[38;5;241m*\u001b[39m\u001b[38;5;241m1000\u001b[39m)), \u001b[38;5;28mint\u001b[39m(\u001b[38;5;28mmax\u001b[39m(X[\u001b[38;5;124m'\u001b[39m\u001b[38;5;124m贷款年利率\u001b[39m\u001b[38;5;124m'\u001b[39m]\u001b[38;5;241m*\u001b[39m\u001b[38;5;241m1000\u001b[39m)))]})\n",
      "\u001b[1;31mNameError\u001b[0m: name 'y_A' is not defined"
     ]
    },
    {
     "data": {
      "image/png": "[encoded data removed]",
      "text/plain": [
       "<Figure size 1800x600 with 3 Axes>"
      ]
     },
     "metadata": {},
     "output_type": "display_data"
    }
   ],
   "source": [
    "import matplotlib.pyplot as plt\n",
    "import seaborn as sns\n",
    "import matplotlib\n",
    "\n",
    "# 绘图代码（之前的完整代码）\n",
    "sns.set(style=\"whitegrid\")\n",
    "\n",
    "fig, axes = plt.subplots(1, 3, figsize=(18, 6), sharey=True)\n",
    "credit_ratings = ['A', 'B', 'C']\n",
    "data_columns = ['信誉评级A客户流失率', '信誉评级B客户流失率', '信誉评级C客户流失率']\n",
    "\n",
    "for ax, target, y, column in zip(axes, credit_ratings, [y_A, y_B, y_C], data_columns):\n",
    "    sns.scatterplot(x=X['贷款年利率'], y=y, ax=ax, color='blue', label='实际数据')\n",
    "    line_X = pd.DataFrame({'贷款年利率': [x / 1000.0 for x in range(int(min(X['贷款年利率']*1000)), int(max(X['贷款年利率']*1000)))]})\n",
    "    line_y = models[target].predict(line_X)\n",
    "    sns.lineplot(x=line_X['贷款年利率'], y=line_y, ax=ax, color='red', label='回归线')\n",
    "    ax.set_title(f'信誉评级 {target} 客户流失率')\n",
    "    ax.set_xlabel('贷款年利率')\n",
    "    ax.set_ylabel(column)\n",
    "    ax.legend(loc='upper left')\n",
    "\n",
    "plt.tight_layout()\n",
    "plt.show()"
   ]
  },
  {
   "cell_type": "code",
   "execution_count": null,
   "id": "2bf1ca1b",
   "metadata": {},
   "outputs": [],
   "source": []
  }
 ],
 "metadata": {
  "kernelspec": {
   "display_name": "Python 3 (ipykernel)",
   "language": "python",
   "name": "python3"
  },
  "language_info": {
   "codemirror_mode": {
    "name": "ipython",
    "version": 3
   },
   "file_extension": ".py",
   "mimetype": "text/x-python",
   "name": "python",
   "nbconvert_exporter": "python",
   "pygments_lexer": "ipython3",
   "version": "3.11.7"
  }
 },
 "nbformat": 4,
 "nbformat_minor": 5
}
