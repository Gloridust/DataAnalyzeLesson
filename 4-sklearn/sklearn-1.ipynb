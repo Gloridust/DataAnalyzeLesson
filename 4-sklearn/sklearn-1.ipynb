{
 "cells": [
  {
   "cell_type": "code",
   "execution_count": 9,
   "id": "f5412b8e-ff9d-4177-ad5b-7997bfd217ac",
   "metadata": {},
   "outputs": [
    {
     "name": "stderr",
     "output_type": "stream",
     "text": [
      "D:\\Anaconda\\Lib\\site-packages\\sklearn\\datasets\\_openml.py:968: FutureWarning: The default value of `parser` will change from `'liac-arff'` to `'auto'` in 1.4. You can set `parser='auto'` to silence this warning. Therefore, an `ImportError` will be raised from 1.4 if the dataset is dense and pandas is not installed. Note that the pandas parser may return different data types. See the Notes Section in fetch_openml's API doc for details.\n",
      "  warn(\n"
     ]
    },
    {
     "data": {
      "text/plain": [
       "age                float64\n",
       "workclass         category\n",
       "education         category\n",
       "marital-status    category\n",
       "occupation        category\n",
       "relationship      category\n",
       "race              category\n",
       "sex               category\n",
       "capital-gain       float64\n",
       "capital-loss       float64\n",
       "hours-per-week     float64\n",
       "native-country    category\n",
       "dtype: object"
      ]
     },
     "execution_count": 9,
     "metadata": {},
     "output_type": "execute_result"
    }
   ],
   "source": [
    "from sklearn.datasets import fetch_openml\n",
    "\n",
    "X_adult, y_adult = fetch_openml(\"adult\", version=2, return_X_y=True)\n",
    "\n",
    "# Remove redundant and non-feature columns\n",
    "X_adult = X_adult.drop([\"education-num\", \"fnlwgt\"], axis=\"columns\")\n",
    "X_adult.dtypes"
   ]
  },
  {
   "cell_type": "code",
   "execution_count": 7,
   "id": "d02b0697-a553-43de-aca2-7f1c2113a13d",
   "metadata": {},
   "outputs": [
    {
     "name": "stdout",
     "output_type": "stream",
     "text": [
      "        age     workclass     education      marital-status  \\\n",
      "0      25.0       Private          11th       Never-married   \n",
      "1      38.0       Private       HS-grad  Married-civ-spouse   \n",
      "2      28.0     Local-gov    Assoc-acdm  Married-civ-spouse   \n",
      "3      44.0       Private  Some-college  Married-civ-spouse   \n",
      "4      18.0           NaN  Some-college       Never-married   \n",
      "...     ...           ...           ...                 ...   \n",
      "48837  27.0       Private    Assoc-acdm  Married-civ-spouse   \n",
      "48838  40.0       Private       HS-grad  Married-civ-spouse   \n",
      "48839  58.0       Private       HS-grad             Widowed   \n",
      "48840  22.0       Private       HS-grad       Never-married   \n",
      "48841  52.0  Self-emp-inc       HS-grad  Married-civ-spouse   \n",
      "\n",
      "              occupation relationship   race     sex  capital-gain  \\\n",
      "0      Machine-op-inspct    Own-child  Black    Male           0.0   \n",
      "1        Farming-fishing      Husband  White    Male           0.0   \n",
      "2        Protective-serv      Husband  White    Male           0.0   \n",
      "3      Machine-op-inspct      Husband  Black    Male        7688.0   \n",
      "4                    NaN    Own-child  White  Female           0.0   \n",
      "...                  ...          ...    ...     ...           ...   \n",
      "48837       Tech-support         Wife  White  Female           0.0   \n",
      "48838  Machine-op-inspct      Husband  White    Male           0.0   \n",
      "48839       Adm-clerical    Unmarried  White  Female           0.0   \n",
      "48840       Adm-clerical    Own-child  White    Male           0.0   \n",
      "48841    Exec-managerial         Wife  White  Female       15024.0   \n",
      "\n",
      "       capital-loss  hours-per-week native-country  \n",
      "0               0.0            40.0  United-States  \n",
      "1               0.0            50.0  United-States  \n",
      "2               0.0            40.0  United-States  \n",
      "3               0.0            40.0  United-States  \n",
      "4               0.0            30.0  United-States  \n",
      "...             ...             ...            ...  \n",
      "48837           0.0            38.0  United-States  \n",
      "48838           0.0            40.0  United-States  \n",
      "48839           0.0            40.0  United-States  \n",
      "48840           0.0            20.0  United-States  \n",
      "48841           0.0            40.0  United-States  \n",
      "\n",
      "[48842 rows x 12 columns]\n"
     ]
    }
   ],
   "source": [
    "print(X_adult)"
   ]
  },
  {
   "cell_type": "code",
   "execution_count": null,
   "id": "86a4d4c6-c5d3-4d1f-905c-b0e98ad5dadc",
   "metadata": {},
   "outputs": [],
   "source": []
  }
 ],
 "metadata": {
  "kernelspec": {
   "display_name": "Python 3 (ipykernel)",
   "language": "python",
   "name": "python3"
  },
  "language_info": {
   "codemirror_mode": {
    "name": "ipython",
    "version": 3
   },
   "file_extension": ".py",
   "mimetype": "text/x-python",
   "name": "python",
   "nbconvert_exporter": "python",
   "pygments_lexer": "ipython3",
   "version": "3.11.7"
  }
 },
 "nbformat": 4,
 "nbformat_minor": 5
}
