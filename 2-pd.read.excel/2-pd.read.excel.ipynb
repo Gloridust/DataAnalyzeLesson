{
 "cells": [
  {
   "cell_type": "code",
   "execution_count": 2,
   "id": "fc4b442a-f338-4721-b1e2-f06970aafdd2",
   "metadata": {},
   "outputs": [],
   "source": [
    "import numpy as pd\n",
    "import numpy as np\n",
    "import matplotlib.pyplot as plt"
   ]
  },
  {
   "cell_type": "code",
   "execution_count": 3,
   "id": "6cd51e6c-9ec3-48cf-9356-22f64b5059ba",
   "metadata": {},
   "outputs": [
    {
     "ename": "SyntaxError",
     "evalue": "(unicode error) 'unicodeescape' codec can't decode bytes in position 2-3: truncated \\UXXXXXXXX escape (3878156621.py, line 1)",
     "output_type": "error",
     "traceback": [
      "\u001b[1;36m  Cell \u001b[1;32mIn[3], line 1\u001b[1;36m\u001b[0m\n\u001b[1;33m    test_1 = pd.read.excel(\"C:\\Users\\gloridust\\Documents\\GitHub\\MCU2020Ctest\\question_content\\附件3：银行贷款年利率与客户流失率关系的统计数据.xlsx\")\u001b[0m\n\u001b[1;37m                                                                                                                            ^\u001b[0m\n\u001b[1;31mSyntaxError\u001b[0m\u001b[1;31m:\u001b[0m (unicode error) 'unicodeescape' codec can't decode bytes in position 2-3: truncated \\UXXXXXXXX escape\n"
     ]
    }
   ],
   "source": [
    "test_1 = pd.read.excel(\"C:\\Users\\gloridust\\Documents\\GitHub\\MCU2020Ctest\\question_content\\附件3：银行贷款年利率与客户流失率关系的统计数据.xlsx\")\n"
   ]
  },
  {
   "cell_type": "code",
   "execution_count": null,
   "id": "343ecf75-9e0a-4746-9cec-70762aae52b3",
   "metadata": {},
   "outputs": [],
   "source": []
  }
 ],
 "metadata": {
  "kernelspec": {
   "display_name": "Python 3 (ipykernel)",
   "language": "python",
   "name": "python3"
  },
  "language_info": {
   "codemirror_mode": {
    "name": "ipython",
    "version": 3
   },
   "file_extension": ".py",
   "mimetype": "text/x-python",
   "name": "python",
   "nbconvert_exporter": "python",
   "pygments_lexer": "ipython3",
   "version": "3.11.7"
  }
 },
 "nbformat": 4,
 "nbformat_minor": 5
}
