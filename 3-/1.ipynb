{
 "cells": [
  {
   "cell_type": "code",
   "execution_count": null,
   "id": "97b121ca-5bc0-49e4-8480-20f24813f08d",
   "metadata": {},
   "outputs": [],
   "source": [
    "import numpy as np\n",
    "import pandas as pd\n",
    "test_1=pd.read_excel('./test_1.xls')\n",
    "test_2=pd.read_excel('./test_2.xls',names=['date','time','ID','number','price','type','discount'])\n",
    "test_3=pd.read_excel('./test_3.xls')\n",
    "test_4=pd.read_excel('./test_4.xls')\n",
    "test_2"
   ]
  }
 ],
 "metadata": {
  "kernelspec": {
   "display_name": "Python 3 (ipykernel)",
   "language": "python",
   "name": "python3"
  },
  "language_info": {
   "codemirror_mode": {
    "name": "ipython",
    "version": 3
   },
   "file_extension": ".py",
   "mimetype": "text/x-python",
   "name": "python",
   "nbconvert_exporter": "python",
   "pygments_lexer": "ipython3",
   "version": "3.11.7"
  }
 },
 "nbformat": 4,
 "nbformat_minor": 5
}
